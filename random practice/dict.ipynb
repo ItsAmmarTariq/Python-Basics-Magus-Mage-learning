{
 "cells": [
  {
   "cell_type": "code",
   "execution_count": 3,
   "metadata": {},
   "outputs": [
    {
     "name": "stdout",
     "output_type": "stream",
     "text": [
      "Key is present \n",
      "Its vale is  234\n"
     ]
    }
   ],
   "source": [
    "d={'Ammar': 676,'Suresh':3423,'Lubna':234,'Adil':454}\n",
    "a=input('Enter key to search')\n",
    "\n",
    "if a in d.keys():\n",
    "    print('Key is present ')\n",
    "    print('Its vale is ',d[a])\n",
    "else:\n",
    "    print('invalid key')\n"
   ]
  },
  {
   "cell_type": "code",
   "execution_count": 4,
   "metadata": {},
   "outputs": [],
   "source": [
    "d1={'Ammar': 676,'Suresh':3423,'Lubna':234,'Adil':454}\n",
    "d2={'Ali': 676,'Tariq':3423}"
   ]
  },
  {
   "cell_type": "code",
   "execution_count": 5,
   "metadata": {},
   "outputs": [
    {
     "data": {
      "text/plain": [
       "{'Ammar': 676,\n",
       " 'Suresh': 3423,\n",
       " 'Lubna': 234,\n",
       " 'Adil': 454,\n",
       " 'Ali': 676,\n",
       " 'Tariq': 3423}"
      ]
     },
     "execution_count": 5,
     "metadata": {},
     "output_type": "execute_result"
    }
   ],
   "source": [
    "d1.update(d2)\n",
    "d1"
   ]
  },
  {
   "cell_type": "code",
   "execution_count": 8,
   "metadata": {},
   "outputs": [
    {
     "name": "stdout",
     "output_type": "stream",
     "text": [
      "the key is Ammar and val is 676 \n",
      "the key is Suresh and val is 3423 \n",
      "the key is Lubna and val is 234 \n",
      "the key is Adil and val is 454 \n",
      "the key is Ali and val is 676 \n",
      "the key is Tariq and val is 3423 \n"
     ]
    }
   ],
   "source": [
    "for i,j in d1.items():\n",
    "    print(f'the key is {i} and val is {j} ')\n",
    "    "
   ]
  },
  {
   "cell_type": "code",
   "execution_count": 11,
   "metadata": {},
   "outputs": [
    {
     "name": "stdout",
     "output_type": "stream",
     "text": [
      "{'key1': 1, 'key2': 4, 'key3': 9, 'key4': 16, 'key5': 25, 'key6': 36, 'key7': 49, 'key8': 64, 'key9': 81}\n"
     ]
    }
   ],
   "source": [
    "n=int(input('enter a nth vslue'))\n",
    "\n",
    "d={'key'+str(i):i**2 for i in range(1,n+1)}\n",
    "print(d)"
   ]
  },
  {
   "cell_type": "code",
   "execution_count": 24,
   "metadata": {},
   "outputs": [
    {
     "name": "stdout",
     "output_type": "stream",
     "text": [
      "{'o': 'one', 't': 'two'}\n"
     ]
    }
   ],
   "source": [
    "a=input('enter a string or strings')\n",
    "\n",
    "l=a.split()\n",
    "# print(l)\n",
    "\n",
    "d={i[0]:i for i in l}\n",
    "print(d)"
   ]
  },
  {
   "cell_type": "code",
   "execution_count": 23,
   "metadata": {},
   "outputs": [
    {
     "name": "stdout",
     "output_type": "stream",
     "text": [
      "both length are not same \n"
     ]
    }
   ],
   "source": [
    "a=input('enter a string')\n",
    "x=a.split()\n",
    "b=input('enter a string of same length')\n",
    "z=b.split()\n",
    "d={}\n",
    "# if len(a)==len(b):\n",
    "d={x:z for i in x }\n",
    "print(d)   \n",
    "\n",
    "# else:\n",
    "#     print('both length are not same ')"
   ]
  },
  {
   "cell_type": "code",
   "execution_count": null,
   "metadata": {},
   "outputs": [],
   "source": []
  }
 ],
 "metadata": {
  "kernelspec": {
   "display_name": "Python 3",
   "language": "python",
   "name": "python3"
  },
  "language_info": {
   "codemirror_mode": {
    "name": "ipython",
    "version": 3
   },
   "file_extension": ".py",
   "mimetype": "text/x-python",
   "name": "python",
   "nbconvert_exporter": "python",
   "pygments_lexer": "ipython3",
   "version": "3.12.0"
  }
 },
 "nbformat": 4,
 "nbformat_minor": 2
}
