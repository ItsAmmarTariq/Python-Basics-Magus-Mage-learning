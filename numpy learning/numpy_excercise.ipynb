{
 "cells": [
  {
   "cell_type": "code",
   "execution_count": 1,
   "metadata": {},
   "outputs": [],
   "source": [
    "import numpy as np"
   ]
  },
  {
   "cell_type": "markdown",
   "metadata": {},
   "source": [
    "## 1. Write a NumPy program to find the dot product of two arrays of different dimensions.\n",
    "  "
   ]
  },
  {
   "cell_type": "code",
   "execution_count": 2,
   "metadata": {},
   "outputs": [
    {
     "name": "stdout",
     "output_type": "stream",
     "text": [
      "[14 26]\n"
     ]
    }
   ],
   "source": [
    "arr1=np.array([[1,2,3],[3,4,5]])\n",
    "arr2=np.array([1,2,3])\n",
    "\n",
    "ans=np.dot(arr1,arr2)\n",
    "print(ans)"
   ]
  },
  {
   "cell_type": "code",
   "execution_count": 8,
   "metadata": {},
   "outputs": [
    {
     "name": "stdout",
     "output_type": "stream",
     "text": [
      "[[1. 0. 0.]\n",
      " [0. 1. 0.]\n",
      " [0. 0. 1.]]\n",
      "this is verticle\n",
      " [[1. 0. 0.]\n",
      " [0. 1. 0.]\n",
      " [0. 0. 1.]\n",
      " [1. 0. 0.]\n",
      " [0. 1. 0.]\n",
      " [0. 0. 1.]\n",
      " [1. 0. 0.]\n",
      " [0. 1. 0.]\n",
      " [0. 0. 1.]]\n",
      "this is horizental\n",
      "  [[1. 0. 0. 1. 0. 0. 1. 0. 0.]\n",
      " [0. 1. 0. 0. 1. 0. 0. 1. 0.]\n",
      " [0. 0. 1. 0. 0. 1. 0. 0. 1.]]\n"
     ]
    }
   ],
   "source": [
    "## Stack a 3x3 identity matrix vertically and horizontally\n",
    "\n",
    "matrix=np.identity(3)\n",
    "print(matrix)\n",
    "\n",
    "v=np.vstack((matrix,matrix,matrix))\n",
    "h=np.hstack((matrix,matrix,matrix))\n",
    "print('this is verticle\\n',v)\n",
    "print('this is horizental\\n ',h)"
   ]
  },
  {
   "cell_type": "code",
   "execution_count": 15,
   "metadata": {},
   "outputs": [
    {
     "name": "stdout",
     "output_type": "stream",
     "text": [
      "[[34 10 37 14]\n",
      " [13 38 12 39]\n",
      " [ 2 12 20 31]\n",
      " [19 40 10 17]]\n",
      "[ 95 102  65  86]\n"
     ]
    }
   ],
   "source": [
    "\n",
    "# 3\n",
    "arr3 = np.random.randint(50, size=(4,4))\n",
    "\n",
    "print(arr3)\n",
    "\n",
    "print(np.sum(arr3,axis=1))"
   ]
  },
  {
   "cell_type": "code",
   "execution_count": 20,
   "metadata": {},
   "outputs": [
    {
     "name": "stdout",
     "output_type": "stream",
     "text": [
      "[11.         13.33333333 11.33333333]\n",
      " Now mean is subtracted from every element\n",
      "[[-1.         -2.33333333  0.66666667]\n",
      " [ 5.          0.66666667 -1.33333333]\n",
      " [ 3.          2.66666667 -7.33333333]]\n"
     ]
    }
   ],
   "source": [
    "#4  \n",
    "arr4=np.random.randint(21,size=(3,3))\n",
    "m=np.mean(arr4,axis=1)\n",
    "print(m)\n",
    "print(\" Now mean is subtracted from every element\" )\n",
    "print(np.subtract(arr4,m))"
   ]
  },
  {
   "cell_type": "code",
   "execution_count": 29,
   "metadata": {},
   "outputs": [
    {
     "name": "stdout",
     "output_type": "stream",
     "text": [
      "[10.         11.33333333 16.        ]\n",
      " Now mean is subtracted from every column element\n",
      "[[-5.    -3.333 -5.   ]\n",
      " [ 2.    -2.333  3.   ]\n",
      " [ 3.     5.667  2.   ]]\n"
     ]
    }
   ],
   "source": [
    "from numpy import subtract\n",
    "\n",
    "\n",
    "arr4=np.random.randint(21,size=(3,3))\n",
    "m=np.mean(arr4,axis=0)\n",
    "print(m)\n",
    "print(\" Now mean is subtracted from every column element\" )\n",
    "print((np.round(subtract(arr4,m),3)))"
   ]
  },
  {
   "cell_type": "code",
   "execution_count": 30,
   "metadata": {},
   "outputs": [
    {
     "name": "stdout",
     "output_type": "stream",
     "text": [
      " this is a original array and\n",
      "[[ 8  7 11  2  4]\n",
      " [ 0 16 13  2 10]\n",
      " [10 18 12 16 14]\n",
      " [20 10  4  7  7]\n",
      " [ 2  0  9 10 11]]\n",
      " this is a normalixed\n",
      "[[ 1.6  0.6  4.6 -4.4 -2.4]\n",
      " [-8.2  7.8  4.8 -6.2  1.8]\n",
      " [-4.   4.  -2.   2.   0. ]\n",
      " [10.4  0.4 -5.6 -2.6 -2.6]\n",
      " [-4.4 -6.4  2.6  3.6  4.6]]\n"
     ]
    }
   ],
   "source": [
    "arr6=np.random.randint(21,size=(5,5))\n",
    "\n",
    "\n",
    "print(\" this is a original array and\" )\n",
    "print(arr6)\n",
    "print(' this is a normalixed')\n",
    "print(np.subtract(arr6,np.mean(arr6,axis=1,keepdims=True)))\n",
    "\n"
   ]
  },
  {
   "cell_type": "code",
   "execution_count": 28,
   "metadata": {},
   "outputs": [
    {
     "name": "stdout",
     "output_type": "stream",
     "text": [
      " this is a original array and\n",
      "[[15  6  5 14  7]\n",
      " [ 2 17  2 19  6]\n",
      " [ 2 12 18 19 16]\n",
      " [ 5  7  9 10 20]\n",
      " [16 16 12 10  1]]\n",
      " this is a normalixed\n",
      "[[ 7.  -5.6 -4.2 -0.4 -3. ]\n",
      " [-6.   5.4 -7.2  4.6 -4. ]\n",
      " [-6.   0.4  8.8  4.6  6. ]\n",
      " [-3.  -4.6 -0.2 -4.4 10. ]\n",
      " [ 8.   4.4  2.8 -4.4 -9. ]]\n"
     ]
    }
   ],
   "source": [
    "arr7=np.random.randint(21,size=(5,5))\n",
    "\n",
    "\n",
    "print(\" this is a original array and\" )\n",
    "print(arr7)\n",
    "print(' this is a normalixed')\n",
    "print(np.subtract(arr7,np.mean(arr7,axis=0,keepdims=True)))"
   ]
  },
  {
   "cell_type": "code",
   "execution_count": 48,
   "metadata": {},
   "outputs": [
    {
     "name": "stdout",
     "output_type": "stream",
     "text": [
      "this is a original array\n",
      " [[ 5 16 12 11 13]\n",
      " [17  9  2 18 20]\n",
      " [ 8  6  3 15  4]\n",
      " [ 9 13 19  8  2]\n",
      " [ 5 12  3 20 19]]\n",
      "this is  a desired result\n",
      "[13 18  8 13 19]\n"
     ]
    }
   ],
   "source": [
    "from numpy import where\n",
    "\n",
    "\n",
    "arr7=np.random.randint(21,size=(5,5))\n",
    "\n",
    "print('this is a original array\\n',arr7)\n",
    "print('this is  a desired result')\n",
    "s=np.sort(arr7,axis=1)\n",
    "print(s[:,-2])\n",
    "\n",
    " "
   ]
  },
  {
   "cell_type": "code",
   "execution_count": 54,
   "metadata": {},
   "outputs": [
    {
     "name": "stdout",
     "output_type": "stream",
     "text": [
      "this is original\n",
      " [[ 2 18 13  6  0]\n",
      " [ 1  1 16  7 15]\n",
      " [ 5 16  4  1  4]\n",
      " [13 20 11 16  0]\n",
      " [12 16  2 11  1]]\n",
      "[]\n"
     ]
    }
   ],
   "source": [
    "arr7=np.random.randint(21,size=(5,5))\n",
    "print('this is original\\n',arr7)\n",
    "zero=np.zeros((3,3))\n",
    "print(arr7[1:(1)])"
   ]
  },
  {
   "cell_type": "code",
   "execution_count": 57,
   "metadata": {},
   "outputs": [
    {
     "name": "stdout",
     "output_type": "stream",
     "text": [
      "Original Array:\n",
      "[[ 2 18 13  6  0]\n",
      " [ 1  1 16  7 15]\n",
      " [ 5 16  4  1  4]\n",
      " [13 20 11 16  0]\n",
      " [12 16  2 11  1]]\n",
      "\n",
      "New Array:\n",
      "[[ 2 18 13  6  0]\n",
      " [ 1  1 16  7 15]\n",
      " [ 5 16  0  1  0]\n",
      " [13 20 11 16  0]\n",
      " [12 16  2 11  1]]\n"
     ]
    }
   ],
   "source": []
  },
  {
   "cell_type": "code",
   "execution_count": null,
   "metadata": {},
   "outputs": [],
   "source": []
  }
 ],
 "metadata": {
  "kernelspec": {
   "display_name": "Python 3",
   "language": "python",
   "name": "python3"
  },
  "language_info": {
   "codemirror_mode": {
    "name": "ipython",
    "version": 3
   },
   "file_extension": ".py",
   "mimetype": "text/x-python",
   "name": "python",
   "nbconvert_exporter": "python",
   "pygments_lexer": "ipython3",
   "version": "3.12.0"
  }
 },
 "nbformat": 4,
 "nbformat_minor": 2
}
