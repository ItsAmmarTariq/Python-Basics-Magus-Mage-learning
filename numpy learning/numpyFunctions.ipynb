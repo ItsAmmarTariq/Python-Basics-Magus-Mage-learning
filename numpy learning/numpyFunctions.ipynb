{
 "cells": [
  {
   "cell_type": "code",
   "execution_count": 127,
   "metadata": {},
   "outputs": [],
   "source": [
    "import numpy as np"
   ]
  },
  {
   "cell_type": "code",
   "execution_count": 128,
   "metadata": {},
   "outputs": [
    {
     "name": "stdout",
     "output_type": "stream",
     "text": [
      "[1. 2. 3. 4. 5.]\n"
     ]
    }
   ],
   "source": [
    "arr=np.arange(1,6,dtype=float)\n",
    "print(arr)"
   ]
  },
  {
   "cell_type": "code",
   "execution_count": 129,
   "metadata": {},
   "outputs": [
    {
     "name": "stdout",
     "output_type": "stream",
     "text": [
      "[1 3 5 7 9]\n"
     ]
    }
   ],
   "source": [
    "print(np.arange(1,10,2))"
   ]
  },
  {
   "cell_type": "code",
   "execution_count": 130,
   "metadata": {},
   "outputs": [
    {
     "name": "stdout",
     "output_type": "stream",
     "text": [
      "[[0 0 0]\n",
      " [0 0 0]\n",
      " [0 0 0]]\n"
     ]
    }
   ],
   "source": [
    "print(np.zeros((3,3),dtype=int))\n",
    "# default dtype is float"
   ]
  },
  {
   "cell_type": "code",
   "execution_count": 131,
   "metadata": {},
   "outputs": [
    {
     "name": "stdout",
     "output_type": "stream",
     "text": [
      "[[1 1 1]\n",
      " [1 1 1]\n",
      " [1 1 1]]\n",
      "this is a 1 dim ar\n",
      "[1. 1. 1.]\n"
     ]
    }
   ],
   "source": [
    "print(np.ones((3,3),dtype=int))\n",
    "print('this is a 1 dim ar')\n",
    "print(np.ones(3))"
   ]
  },
  {
   "cell_type": "code",
   "execution_count": 132,
   "metadata": {},
   "outputs": [
    {
     "name": "stdout",
     "output_type": "stream",
     "text": [
      "[7 7 7 7 7 7 7 7]\n",
      "[[99. 99. 99. 99.]\n",
      " [99. 99. 99. 99.]\n",
      " [99. 99. 99. 99.]]\n"
     ]
    }
   ],
   "source": [
    "print(np.full(8,7))\n",
    "print(np.full((3,4),99,dtype=float))"
   ]
  },
  {
   "cell_type": "code",
   "execution_count": 133,
   "metadata": {},
   "outputs": [
    {
     "name": "stdout",
     "output_type": "stream",
     "text": [
      "[[[ 0  1  2  3  4  5  6  7]]\n",
      "\n",
      " [[ 8  9 10 11 12 13 14 15]]\n",
      "\n",
      " [[16 17 18 19 20 21 22 23]]\n",
      "\n",
      " [[24 25 26 27 28 29 30 31]]]\n"
     ]
    }
   ],
   "source": [
    "print(np.arange(32).reshape(4,1,8))"
   ]
  },
  {
   "cell_type": "code",
   "execution_count": 134,
   "metadata": {},
   "outputs": [
    {
     "name": "stdout",
     "output_type": "stream",
     "text": [
      "[[[0 1 2]\n",
      "  [3 4 5]\n",
      "  [6 7 8]]]\n"
     ]
    }
   ],
   "source": [
    "print(np.arange(9).reshape(1,3,3))"
   ]
  },
  {
   "cell_type": "markdown",
   "metadata": {},
   "source": [
    "# functions of numpy\n"
   ]
  },
  {
   "cell_type": "code",
   "execution_count": 135,
   "metadata": {},
   "outputs": [
    {
     "name": "stdout",
     "output_type": "stream",
     "text": [
      "[3.4 3.4 3.4 3.4 3.4]\n"
     ]
    }
   ],
   "source": [
    "arr=np.repeat([3.4],5,axis=0)\n",
    "print(arr)"
   ]
  },
  {
   "cell_type": "code",
   "execution_count": 136,
   "metadata": {},
   "outputs": [
    {
     "name": "stdout",
     "output_type": "stream",
     "text": [
      "[[3 7]\n",
      " [3 7]\n",
      " [3 7]\n",
      " [3 7]\n",
      " [3 7]]\n"
     ]
    }
   ],
   "source": [
    "arr=np.repeat([[3,7]],5,axis=0)\n",
    "print(arr)"
   ]
  },
  {
   "cell_type": "code",
   "execution_count": 137,
   "metadata": {},
   "outputs": [
    {
     "data": {
      "text/plain": [
       "array([[1, 4, 5, 6, 4, 5, 6, 7],\n",
       "       [1, 4, 5, 9, 2, 5, 7, 8]])"
      ]
     },
     "execution_count": 137,
     "metadata": {},
     "output_type": "execute_result"
    }
   ],
   "source": [
    "from numpy import concatenate\n",
    "\n",
    "\n",
    "arr=np.array([[1,4,5,6],[1,4,5,9]])\n",
    "arr1=np.array([[4,5,6,7],[2,5,7,8]])\n",
    "\n",
    "concatenate((arr,arr1),axis=1)"
   ]
  },
  {
   "cell_type": "markdown",
   "metadata": {},
   "source": [
    "## using vstack\n"
   ]
  },
  {
   "cell_type": "code",
   "execution_count": 138,
   "metadata": {},
   "outputs": [
    {
     "data": {
      "text/plain": [
       "array([[1, 4, 5, 6],\n",
       "       [1, 4, 5, 9],\n",
       "       [4, 5, 6, 7],\n",
       "       [2, 5, 7, 8]])"
      ]
     },
     "execution_count": 138,
     "metadata": {},
     "output_type": "execute_result"
    }
   ],
   "source": [
    "v=np.vstack((arr,arr1))\n",
    "v"
   ]
  },
  {
   "cell_type": "code",
   "execution_count": 139,
   "metadata": {},
   "outputs": [
    {
     "data": {
      "text/plain": [
       "array([[1, 4, 5, 6, 4, 5, 6, 7],\n",
       "       [1, 4, 5, 9, 2, 5, 7, 8]])"
      ]
     },
     "execution_count": 139,
     "metadata": {},
     "output_type": "execute_result"
    }
   ],
   "source": [
    "h=np.hstack((arr,arr1))\n",
    "h"
   ]
  },
  {
   "cell_type": "code",
   "execution_count": 140,
   "metadata": {},
   "outputs": [
    {
     "name": "stdout",
     "output_type": "stream",
     "text": [
      "[ 0  1  4  9 16 25 36]\n"
     ]
    },
    {
     "data": {
      "text/plain": [
       "array([    1,     1,     4,    27,   256,  3125, 46656])"
      ]
     },
     "execution_count": 140,
     "metadata": {},
     "output_type": "execute_result"
    }
   ],
   "source": [
    "arr=np.array([x for x in range(7)])\n",
    "p=np.power(arr,2)\n",
    "print(p)\n",
    "\n",
    "# for different powers for each element in arr \n",
    "p2=np.power(arr,[x for x in range(7)])\n",
    "p2"
   ]
  },
  {
   "cell_type": "markdown",
   "metadata": {},
   "source": [
    "## difference"
   ]
  },
  {
   "cell_type": "code",
   "execution_count": 141,
   "metadata": {},
   "outputs": [
    {
     "name": "stdout",
     "output_type": "stream",
     "text": [
      "[[11 11 11 11 11 11 11 11 11]]\n"
     ]
    }
   ],
   "source": [
    "from ctypes import sizeof\n",
    "\n",
    "\n",
    "arr=np.array(range(9,18))\n",
    "arr1=np.array(range(20,29))\n",
    "\n",
    "d=np.diff((arr,arr1),axis=0)\n",
    "print(d)"
   ]
  },
  {
   "cell_type": "markdown",
   "metadata": {},
   "source": [
    "## cross "
   ]
  },
  {
   "cell_type": "code",
   "execution_count": 142,
   "metadata": {},
   "outputs": [
    {
     "name": "stdout",
     "output_type": "stream",
     "text": [
      "-3\n"
     ]
    }
   ],
   "source": [
    "arr=np.array([1,5])\n",
    "arr1=np.array([2,7])\n",
    "c=np.cross(arr,arr1)\n",
    "print(c)"
   ]
  },
  {
   "cell_type": "markdown",
   "metadata": {},
   "source": [
    "### sort\n"
   ]
  },
  {
   "cell_type": "code",
   "execution_count": 143,
   "metadata": {},
   "outputs": [
    {
     "name": "stdout",
     "output_type": "stream",
     "text": [
      "[[1 5 3 4]\n",
      " [2 7 6 6]]\n"
     ]
    }
   ],
   "source": [
    "arr=np.array([1,5,6,4])\n",
    "arr1=np.array([2,7,3,6])\n",
    "s=np.sort((arr,arr1),axis=0)\n",
    "print(s)\n",
    "\n",
    "# elements from both arrays compare and what is smaller comes \n",
    "# whether it is from 1st or 2nd arr "
   ]
  },
  {
   "cell_type": "code",
   "execution_count": 144,
   "metadata": {},
   "outputs": [
    {
     "name": "stdout",
     "output_type": "stream",
     "text": [
      "[[1 4 5 6]\n",
      " [2 3 6 7]]\n"
     ]
    }
   ],
   "source": [
    "arr=np.array([1,5,6,4])\n",
    "arr1=np.array([2,7,3,6])\n",
    "s=np.sort((arr,arr1),axis=1)\n",
    "print(s)\n",
    "\n",
    "# now elements are compare in same list and get sorted"
   ]
  },
  {
   "cell_type": "markdown",
   "metadata": {},
   "source": [
    "## flatten"
   ]
  },
  {
   "cell_type": "code",
   "execution_count": 149,
   "metadata": {},
   "outputs": [
    {
     "name": "stdout",
     "output_type": "stream",
     "text": [
      "[2 3 8 5 4 3 1 9]\n"
     ]
    }
   ],
   "source": [
    "n1=[2,3,8,5]\n",
    "n2=[4,3,1,9]\n",
    "\n",
    "n=np.array([n1,n2])\n",
    "print(n.flatten(\"C\"))"
   ]
  },
  {
   "cell_type": "code",
   "execution_count": 150,
   "metadata": {},
   "outputs": [
    {
     "name": "stdout",
     "output_type": "stream",
     "text": [
      "[ 6  6  9 14]\n"
     ]
    }
   ],
   "source": [
    "print(n.sum(axis=0))"
   ]
  },
  {
   "cell_type": "code",
   "execution_count": 147,
   "metadata": {},
   "outputs": [
    {
     "name": "stdout",
     "output_type": "stream",
     "text": [
      "[ 6.  7. nan  9.]\n"
     ]
    }
   ],
   "source": [
    "import numpy as np\n",
    "\n",
    "a = np.array([1.0, 2.0, np.nan, 4.0])\n",
    "\n",
    "# Performing operations with NaN\n",
    "b = a + 5\n",
    "\n",
    "print(b)\n"
   ]
  },
  {
   "cell_type": "code",
   "execution_count": 157,
   "metadata": {},
   "outputs": [
    {
     "name": "stdout",
     "output_type": "stream",
     "text": [
      "[[ 2  3  8  5]\n",
      " [ 6  6  9 14]]\n",
      "[    2     6    48   240   960  2880  2880 25920]\n",
      "[[ 2  3  8  5]\n",
      " [ 8  9  8 45]]\n"
     ]
    }
   ],
   "source": [
    "print(np.cumsum(n,axis=0))\n",
    "# now cumprod\n",
    "print(np.cumprod(n))\n",
    "# if a axis is default then it will flatten \n",
    "# the array multiply each element by its previous\n",
    "\n",
    "\n",
    "# now using the axis\n",
    "print(np.cumprod(n,axis=0))"
   ]
  },
  {
   "cell_type": "markdown",
   "metadata": {},
   "source": [
    "## ietration in np \n"
   ]
  },
  {
   "cell_type": "code",
   "execution_count": 158,
   "metadata": {},
   "outputs": [
    {
     "name": "stdout",
     "output_type": "stream",
     "text": [
      "1\n",
      "2\n",
      "3\n",
      "4\n",
      "6\n",
      "7\n",
      "9\n"
     ]
    }
   ],
   "source": [
    "arr=np.array([1,2,3,4,6,7,9])\n",
    "\n",
    "for i in arr:\n",
    "    print(i)"
   ]
  },
  {
   "cell_type": "code",
   "execution_count": 160,
   "metadata": {},
   "outputs": [
    {
     "name": "stdout",
     "output_type": "stream",
     "text": [
      "1\n",
      "2\n",
      "3\n",
      "4\n",
      "6\n",
      "7\n",
      "9\n",
      "5\n",
      "1\n",
      "3\n",
      "6\n",
      "9\n",
      "7\n",
      "3\n"
     ]
    }
   ],
   "source": [
    "arr=np.array([[1,2,3,4,6,7,9],[5,1,3,6,9,7,3]])\n",
    "\n",
    "for i in arr:\n",
    "    for j in i:\n",
    "\n",
    "        print(j)"
   ]
  },
  {
   "cell_type": "code",
   "execution_count": 164,
   "metadata": {},
   "outputs": [
    {
     "name": "stdout",
     "output_type": "stream",
     "text": [
      "1\n",
      "2\n",
      "3\n",
      "8\n",
      "5\n",
      "1\n",
      "8\n",
      "12\n"
     ]
    }
   ],
   "source": [
    "# 3d array \n",
    "\n",
    "arr3=np.array([[[1,2],[3,8]],[[5,1],[8,12]]])\n",
    "# for i in arr3:\n",
    "#     for j in i:\n",
    "#         for k in j:\n",
    "#             print(k)\n",
    "\n",
    "# this is not optimal\n",
    "\n",
    "for i in np.nditer(arr3):\n",
    "    print(i)\n"
   ]
  },
  {
   "cell_type": "code",
   "execution_count": 165,
   "metadata": {},
   "outputs": [
    {
     "name": "stdout",
     "output_type": "stream",
     "text": [
      "(0, 0, 0) 1\n",
      "(0, 0, 1) 2\n",
      "(0, 1, 0) 3\n",
      "(0, 1, 1) 8\n",
      "(1, 0, 0) 5\n",
      "(1, 0, 1) 1\n",
      "(1, 1, 0) 8\n",
      "(1, 1, 1) 12\n"
     ]
    }
   ],
   "source": [
    "# np also has enumerate \n",
    "\n",
    "# 3d array \n",
    "\n",
    "arr3=np.array([[[1,2],[3,8]],[[5,1],[8,12]]])\n",
    "\n",
    "\n",
    "for ind,ele in np.ndenumerate(arr3):\n",
    "    print(ind,ele)\n"
   ]
  },
  {
   "cell_type": "markdown",
   "metadata": {},
   "source": [
    "## copy vs view function"
   ]
  },
  {
   "cell_type": "code",
   "execution_count": 167,
   "metadata": {},
   "outputs": [
    {
     "name": "stdout",
     "output_type": "stream",
     "text": [
      "original : [1 2 7 4 6 7 9]\n",
      "copy : [1 2 3 4 6 7 9]\n"
     ]
    }
   ],
   "source": [
    "arr=np.array([1,2,3,4,6,7,9])\n",
    "c=np.copy(arr)\n",
    "arr[2]=7\n",
    "print('original :',arr)\n",
    "print('copy :',c)\n"
   ]
  },
  {
   "cell_type": "code",
   "execution_count": 169,
   "metadata": {},
   "outputs": [
    {
     "name": "stdout",
     "output_type": "stream",
     "text": [
      "original : [1 2 3 7 6 7 9]\n",
      "view copy : [1 2 3 7 6 7 9]\n"
     ]
    }
   ],
   "source": [
    "# view \n",
    "arr=np.array([1,2,3,4,6,7,9])\n",
    "v=arr.view()\n",
    "arr[3]=7\n",
    "print('original :',arr)\n",
    "print('view copy :',v)"
   ]
  },
  {
   "cell_type": "code",
   "execution_count": 172,
   "metadata": {},
   "outputs": [
    {
     "name": "stdout",
     "output_type": "stream",
     "text": [
      "[1. 2. 3. 4.]\n"
     ]
    }
   ],
   "source": [
    "a=np.array([1,2])\n",
    "# a=np.append(a,3)\n",
    "a=np.append(a,[3,4.0])\n",
    "print(a)\n",
    "# all converts to float"
   ]
  },
  {
   "cell_type": "markdown",
   "metadata": {},
   "source": [
    "## insertion in np"
   ]
  },
  {
   "cell_type": "code",
   "execution_count": 176,
   "metadata": {},
   "outputs": [
    {
     "data": {
      "text/plain": [
       "array([1. , 3.5, 2. , 3. ])"
      ]
     },
     "execution_count": 176,
     "metadata": {},
     "output_type": "execute_result"
    }
   ],
   "source": [
    "a = np.array([1.0, 2.0, 3.0])\n",
    "a=np.insert(a,1,values=3.5)\n",
    "a"
   ]
  },
  {
   "cell_type": "code",
   "execution_count": 177,
   "metadata": {},
   "outputs": [
    {
     "data": {
      "text/plain": [
       "array([  1. ,   3.5, 100. , 200. ,   2. ,   3. ])"
      ]
     },
     "execution_count": 177,
     "metadata": {},
     "output_type": "execute_result"
    }
   ],
   "source": [
    "a = np.insert(a, 2, values=[100, 200])\n",
    "a"
   ]
  },
  {
   "cell_type": "code",
   "execution_count": 180,
   "metadata": {},
   "outputs": [
    {
     "data": {
      "text/plain": [
       "array([  1. ,   3.5, 100. ,   4.2,   4.5,   4.5,   5.2, 200. ,   5.5,\n",
       "         2. ,   5.5,   3. ])"
      ]
     },
     "execution_count": 180,
     "metadata": {},
     "output_type": "execute_result"
    }
   ],
   "source": [
    "# Insert multiple elements at multiple positions\n",
    "a = np.insert(a, [3, 5], values=[4.2, 5.2])\n",
    "a\n"
   ]
  },
  {
   "cell_type": "markdown",
   "metadata": {},
   "source": [
    "## deleting a element"
   ]
  },
  {
   "cell_type": "code",
   "execution_count": 185,
   "metadata": {},
   "outputs": [
    {
     "name": "stdout",
     "output_type": "stream",
     "text": [
      "[1. 2. 3. 4.]\n"
     ]
    }
   ],
   "source": [
    "a = np.array([1.0, 2.0, 3.0, 4.0, 5.0])\n",
    "a = np.delete(a, -1)\n",
    "print(a)"
   ]
  },
  {
   "cell_type": "code",
   "execution_count": 186,
   "metadata": {},
   "outputs": [
    {
     "data": {
      "text/plain": [
       "array([3., 4.])"
      ]
     },
     "execution_count": 186,
     "metadata": {},
     "output_type": "execute_result"
    }
   ],
   "source": [
    "a = np.delete(a, [0, 1])\n",
    "a\n",
    "# a is now [3., 4.]"
   ]
  },
  {
   "cell_type": "code",
   "execution_count": 188,
   "metadata": {},
   "outputs": [
    {
     "data": {
      "text/plain": [
       "array([1., 2., 3., 4., 5.])"
      ]
     },
     "execution_count": 188,
     "metadata": {},
     "output_type": "execute_result"
    }
   ],
   "source": [
    "a = np.array([1.0, 3.0, 2.0, 4.0, 5.0])\n",
    "b = np.sort(a)\n",
    "b\n",
    "# b is now [1., 2., 3., 4., 5.]"
   ]
  },
  {
   "cell_type": "code",
   "execution_count": 190,
   "metadata": {},
   "outputs": [
    {
     "name": "stdout",
     "output_type": "stream",
     "text": [
      "[3. 4. 5. 6.]\n",
      "[3. 4. 5. 6.]\n",
      "[-1.  0.  1.  2.]\n",
      "[-1.  0.  1.  2.]\n"
     ]
    }
   ],
   "source": [
    "a = np.array([1.0, 2.0, 3.0, 4.0])\n",
    "b = np.array([2.0, 2.0, 2.0, 2.0])\n",
    "print(a + b)\n",
    "\n",
    "print(a + 2)\n",
    "\n",
    "print(a - b)\n",
    "\n",
    "print(a - 2)\n",
    "\n"
   ]
  },
  {
   "cell_type": "code",
   "execution_count": 191,
   "metadata": {},
   "outputs": [
    {
     "name": "stdout",
     "output_type": "stream",
     "text": [
      "[2. 4. 6. 8.]\n",
      "[2. 4. 6. 8.]\n",
      "[0.5 1.  1.5 2. ]\n",
      "[0.5 1.  1.5 2. ]\n"
     ]
    }
   ],
   "source": [
    "a = np.array([1.0, 2.0, 3.0, 4.0])\n",
    "b = np.array([2.0, 2.0, 2.0, 2.0])\n",
    "print(a * b)\n",
    "\n",
    "print(a * 2)\n",
    "\n",
    "print(a / b)\n",
    "\n",
    "print(a / 2)\n"
   ]
  },
  {
   "cell_type": "code",
   "execution_count": null,
   "metadata": {},
   "outputs": [],
   "source": []
  }
 ],
 "metadata": {
  "kernelspec": {
   "display_name": "Python 3",
   "language": "python",
   "name": "python3"
  },
  "language_info": {
   "codemirror_mode": {
    "name": "ipython",
    "version": 3
   },
   "file_extension": ".py",
   "mimetype": "text/x-python",
   "name": "python",
   "nbconvert_exporter": "python",
   "pygments_lexer": "ipython3",
   "version": "3.12.0"
  }
 },
 "nbformat": 4,
 "nbformat_minor": 2
}
