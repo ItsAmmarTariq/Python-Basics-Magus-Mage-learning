{
 "cells": [
  {
   "cell_type": "code",
   "execution_count": 1,
   "metadata": {},
   "outputs": [],
   "source": [
    "import numpy as np"
   ]
  },
  {
   "cell_type": "code",
   "execution_count": 4,
   "metadata": {},
   "outputs": [
    {
     "name": "stdout",
     "output_type": "stream",
     "text": [
      "[1. 2. 3. 4. 5.]\n"
     ]
    }
   ],
   "source": [
    "arr=np.arange(1,6,dtype=float)\n",
    "print(arr)"
   ]
  },
  {
   "cell_type": "code",
   "execution_count": 10,
   "metadata": {},
   "outputs": [
    {
     "name": "stdout",
     "output_type": "stream",
     "text": [
      "[1 3 5 7 9]\n"
     ]
    }
   ],
   "source": [
    "print(np.arange(1,10,2))"
   ]
  },
  {
   "cell_type": "code",
   "execution_count": 16,
   "metadata": {},
   "outputs": [
    {
     "name": "stdout",
     "output_type": "stream",
     "text": [
      "[[0 0 0]\n",
      " [0 0 0]\n",
      " [0 0 0]]\n"
     ]
    }
   ],
   "source": [
    "print(np.zeros((3,3),dtype=int))\n",
    "# default dtype is float"
   ]
  },
  {
   "cell_type": "code",
   "execution_count": 21,
   "metadata": {},
   "outputs": [
    {
     "name": "stdout",
     "output_type": "stream",
     "text": [
      "[[1 1 1]\n",
      " [1 1 1]\n",
      " [1 1 1]]\n",
      "this is a 1 dim ar\n",
      "[1. 1. 1.]\n"
     ]
    }
   ],
   "source": [
    "print(np.ones((3,3),dtype=int))\n",
    "print('this is a 1 dim ar')\n",
    "print(np.ones(3))"
   ]
  },
  {
   "cell_type": "code",
   "execution_count": 25,
   "metadata": {},
   "outputs": [
    {
     "name": "stdout",
     "output_type": "stream",
     "text": [
      "[7 7 7 7 7 7 7 7]\n",
      "[[99. 99. 99. 99.]\n",
      " [99. 99. 99. 99.]\n",
      " [99. 99. 99. 99.]]\n"
     ]
    }
   ],
   "source": [
    "print(np.full(8,7))\n",
    "print(np.full((3,4),99,dtype=float))"
   ]
  },
  {
   "cell_type": "code",
   "execution_count": 36,
   "metadata": {},
   "outputs": [
    {
     "name": "stdout",
     "output_type": "stream",
     "text": [
      "[[[ 0  1  2  3  4  5  6  7]]\n",
      "\n",
      " [[ 8  9 10 11 12 13 14 15]]\n",
      "\n",
      " [[16 17 18 19 20 21 22 23]]\n",
      "\n",
      " [[24 25 26 27 28 29 30 31]]]\n"
     ]
    }
   ],
   "source": [
    "print(np.arange(32).reshape(4,1,8))"
   ]
  },
  {
   "cell_type": "code",
   "execution_count": 51,
   "metadata": {},
   "outputs": [
    {
     "name": "stdout",
     "output_type": "stream",
     "text": [
      "[[[0 1 2]\n",
      "  [3 4 5]\n",
      "  [6 7 8]]]\n"
     ]
    }
   ],
   "source": [
    "print(np.arange(9).reshape(1,3,3))"
   ]
  },
  {
   "cell_type": "markdown",
   "metadata": {},
   "source": [
    "# functions of numpy\n"
   ]
  },
  {
   "cell_type": "code",
   "execution_count": 62,
   "metadata": {},
   "outputs": [
    {
     "name": "stdout",
     "output_type": "stream",
     "text": [
      "[3.4 3.4 3.4 3.4 3.4]\n"
     ]
    }
   ],
   "source": [
    "arr=np.repeat([3.4],5,axis=0)\n",
    "print(arr)"
   ]
  },
  {
   "cell_type": "code",
   "execution_count": 68,
   "metadata": {},
   "outputs": [
    {
     "name": "stdout",
     "output_type": "stream",
     "text": [
      "[[3 7]\n",
      " [3 7]\n",
      " [3 7]\n",
      " [3 7]\n",
      " [3 7]]\n"
     ]
    }
   ],
   "source": [
    "arr=np.repeat([[3,7]],5,axis=0)\n",
    "print(arr)"
   ]
  },
  {
   "cell_type": "code",
   "execution_count": 78,
   "metadata": {},
   "outputs": [
    {
     "ename": "ValueError",
     "evalue": "all the input array dimensions except for the concatenation axis must match exactly, but along dimension 0, the array at index 0 has size 2 and the array at index 1 has size 1",
     "output_type": "error",
     "traceback": [
      "\u001b[1;31m---------------------------------------------------------------------------\u001b[0m",
      "\u001b[1;31mValueError\u001b[0m                                Traceback (most recent call last)",
      "\u001b[1;32mc:\\Users\\Ammar Tariq\\Desktop\\Magnus Mage  Python\\numpy learning\\numpyFunctions.ipynb Cell 12\u001b[0m line \u001b[0;36m7\n\u001b[0;32m      <a href='vscode-notebook-cell:/c%3A/Users/Ammar%20Tariq/Desktop/Magnus%20Mage%20%20Python/numpy%20learning/numpyFunctions.ipynb#X21sZmlsZQ%3D%3D?line=3'>4</a>\u001b[0m arr\u001b[39m=\u001b[39mnp\u001b[39m.\u001b[39marray([[\u001b[39m1\u001b[39m,\u001b[39m4\u001b[39m,\u001b[39m56\u001b[39m,\u001b[39m6\u001b[39m],[\u001b[39m1\u001b[39m,\u001b[39m2\u001b[39m,\u001b[39m49\u001b[39m,\u001b[39m51\u001b[39m]])\n\u001b[0;32m      <a href='vscode-notebook-cell:/c%3A/Users/Ammar%20Tariq/Desktop/Magnus%20Mage%20%20Python/numpy%20learning/numpyFunctions.ipynb#X21sZmlsZQ%3D%3D?line=4'>5</a>\u001b[0m arr1\u001b[39m=\u001b[39mnp\u001b[39m.\u001b[39marray([[\u001b[39m4\u001b[39m,\u001b[39m5\u001b[39m,\u001b[39m6\u001b[39m,\u001b[39m7\u001b[39m]])\n\u001b[1;32m----> <a href='vscode-notebook-cell:/c%3A/Users/Ammar%20Tariq/Desktop/Magnus%20Mage%20%20Python/numpy%20learning/numpyFunctions.ipynb#X21sZmlsZQ%3D%3D?line=6'>7</a>\u001b[0m concatenate((arr,arr1),axis\u001b[39m=\u001b[39;49m\u001b[39m1\u001b[39;49m)\n",
      "\u001b[1;31mValueError\u001b[0m: all the input array dimensions except for the concatenation axis must match exactly, but along dimension 0, the array at index 0 has size 2 and the array at index 1 has size 1"
     ]
    }
   ],
   "source": [
    "from numpy import concatenate\n",
    "\n",
    "\n",
    "arr=np.array([[1,4,56,6],[1,2,49,51]])\n",
    "arr1=np.array([[4,5,6,7]])\n",
    "\n",
    "concatenate((arr,arr1),axis=0)"
   ]
  },
  {
   "cell_type": "code",
   "execution_count": null,
   "metadata": {},
   "outputs": [],
   "source": []
  }
 ],
 "metadata": {
  "kernelspec": {
   "display_name": "Python 3",
   "language": "python",
   "name": "python3"
  },
  "language_info": {
   "codemirror_mode": {
    "name": "ipython",
    "version": 3
   },
   "file_extension": ".py",
   "mimetype": "text/x-python",
   "name": "python",
   "nbconvert_exporter": "python",
   "pygments_lexer": "ipython3",
   "version": "3.12.0"
  }
 },
 "nbformat": 4,
 "nbformat_minor": 2
}
