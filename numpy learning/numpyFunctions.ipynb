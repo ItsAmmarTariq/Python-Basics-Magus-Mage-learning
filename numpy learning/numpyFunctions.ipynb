{
 "cells": [
  {
   "cell_type": "code",
   "execution_count": 2,
   "metadata": {},
   "outputs": [],
   "source": [
    "import numpy as np"
   ]
  },
  {
   "cell_type": "code",
   "execution_count": 128,
   "metadata": {},
   "outputs": [
    {
     "name": "stdout",
     "output_type": "stream",
     "text": [
      "[1. 2. 3. 4. 5.]\n"
     ]
    }
   ],
   "source": [
    "arr=np.arange(1,6,dtype=float)\n",
    "print(arr)"
   ]
  },
  {
   "cell_type": "code",
   "execution_count": 129,
   "metadata": {},
   "outputs": [
    {
     "name": "stdout",
     "output_type": "stream",
     "text": [
      "[1 3 5 7 9]\n"
     ]
    }
   ],
   "source": [
    "print(np.arange(1,10,2))"
   ]
  },
  {
   "cell_type": "code",
   "execution_count": 130,
   "metadata": {},
   "outputs": [
    {
     "name": "stdout",
     "output_type": "stream",
     "text": [
      "[[0 0 0]\n",
      " [0 0 0]\n",
      " [0 0 0]]\n"
     ]
    }
   ],
   "source": [
    "print(np.zeros((3,3),dtype=int))\n",
    "# default dtype is float"
   ]
  },
  {
   "cell_type": "code",
   "execution_count": 131,
   "metadata": {},
   "outputs": [
    {
     "name": "stdout",
     "output_type": "stream",
     "text": [
      "[[1 1 1]\n",
      " [1 1 1]\n",
      " [1 1 1]]\n",
      "this is a 1 dim ar\n",
      "[1. 1. 1.]\n"
     ]
    }
   ],
   "source": [
    "print(np.ones((3,3),dtype=int))\n",
    "print('this is a 1 dim ar')\n",
    "print(np.ones(3))"
   ]
  },
  {
   "cell_type": "code",
   "execution_count": 132,
   "metadata": {},
   "outputs": [
    {
     "name": "stdout",
     "output_type": "stream",
     "text": [
      "[7 7 7 7 7 7 7 7]\n",
      "[[99. 99. 99. 99.]\n",
      " [99. 99. 99. 99.]\n",
      " [99. 99. 99. 99.]]\n"
     ]
    }
   ],
   "source": [
    "print(np.full(8,7))\n",
    "print(np.full((3,4),99,dtype=float))"
   ]
  },
  {
   "cell_type": "code",
   "execution_count": 133,
   "metadata": {},
   "outputs": [
    {
     "name": "stdout",
     "output_type": "stream",
     "text": [
      "[[[ 0  1  2  3  4  5  6  7]]\n",
      "\n",
      " [[ 8  9 10 11 12 13 14 15]]\n",
      "\n",
      " [[16 17 18 19 20 21 22 23]]\n",
      "\n",
      " [[24 25 26 27 28 29 30 31]]]\n"
     ]
    }
   ],
   "source": [
    "print(np.arange(32).reshape(4,1,8))"
   ]
  },
  {
   "cell_type": "code",
   "execution_count": 134,
   "metadata": {},
   "outputs": [
    {
     "name": "stdout",
     "output_type": "stream",
     "text": [
      "[[[0 1 2]\n",
      "  [3 4 5]\n",
      "  [6 7 8]]]\n"
     ]
    }
   ],
   "source": [
    "print(np.arange(9).reshape(1,3,3))"
   ]
  },
  {
   "cell_type": "markdown",
   "metadata": {},
   "source": [
    "# functions of numpy\n"
   ]
  },
  {
   "cell_type": "code",
   "execution_count": 135,
   "metadata": {},
   "outputs": [
    {
     "name": "stdout",
     "output_type": "stream",
     "text": [
      "[3.4 3.4 3.4 3.4 3.4]\n"
     ]
    }
   ],
   "source": [
    "arr=np.repeat([3.4],5,axis=0)\n",
    "print(arr)"
   ]
  },
  {
   "cell_type": "code",
   "execution_count": 136,
   "metadata": {},
   "outputs": [
    {
     "name": "stdout",
     "output_type": "stream",
     "text": [
      "[[3 7]\n",
      " [3 7]\n",
      " [3 7]\n",
      " [3 7]\n",
      " [3 7]]\n"
     ]
    }
   ],
   "source": [
    "arr=np.repeat([[3,7]],5,axis=0)\n",
    "print(arr)"
   ]
  },
  {
   "cell_type": "code",
   "execution_count": 137,
   "metadata": {},
   "outputs": [
    {
     "data": {
      "text/plain": [
       "array([[1, 4, 5, 6, 4, 5, 6, 7],\n",
       "       [1, 4, 5, 9, 2, 5, 7, 8]])"
      ]
     },
     "execution_count": 137,
     "metadata": {},
     "output_type": "execute_result"
    }
   ],
   "source": [
    "from numpy import concatenate\n",
    "\n",
    "\n",
    "arr=np.array([[1,4,5,6],[1,4,5,9]])\n",
    "arr1=np.array([[4,5,6,7],[2,5,7,8]])\n",
    "\n",
    "concatenate((arr,arr1),axis=1)"
   ]
  },
  {
   "cell_type": "markdown",
   "metadata": {},
   "source": [
    "## using vstack\n"
   ]
  },
  {
   "cell_type": "code",
   "execution_count": 138,
   "metadata": {},
   "outputs": [
    {
     "data": {
      "text/plain": [
       "array([[1, 4, 5, 6],\n",
       "       [1, 4, 5, 9],\n",
       "       [4, 5, 6, 7],\n",
       "       [2, 5, 7, 8]])"
      ]
     },
     "execution_count": 138,
     "metadata": {},
     "output_type": "execute_result"
    }
   ],
   "source": [
    "v=np.vstack((arr,arr1))\n",
    "v"
   ]
  },
  {
   "cell_type": "code",
   "execution_count": 139,
   "metadata": {},
   "outputs": [
    {
     "data": {
      "text/plain": [
       "array([[1, 4, 5, 6, 4, 5, 6, 7],\n",
       "       [1, 4, 5, 9, 2, 5, 7, 8]])"
      ]
     },
     "execution_count": 139,
     "metadata": {},
     "output_type": "execute_result"
    }
   ],
   "source": [
    "h=np.hstack((arr,arr1))\n",
    "h"
   ]
  },
  {
   "cell_type": "code",
   "execution_count": 140,
   "metadata": {},
   "outputs": [
    {
     "name": "stdout",
     "output_type": "stream",
     "text": [
      "[ 0  1  4  9 16 25 36]\n"
     ]
    },
    {
     "data": {
      "text/plain": [
       "array([    1,     1,     4,    27,   256,  3125, 46656])"
      ]
     },
     "execution_count": 140,
     "metadata": {},
     "output_type": "execute_result"
    }
   ],
   "source": [
    "arr=np.array([x for x in range(7)])\n",
    "p=np.power(arr,2)\n",
    "print(p)\n",
    "\n",
    "# for different powers for each element in arr \n",
    "p2=np.power(arr,[x for x in range(7)])\n",
    "p2"
   ]
  },
  {
   "cell_type": "markdown",
   "metadata": {},
   "source": [
    "## difference"
   ]
  },
  {
   "cell_type": "code",
   "execution_count": 141,
   "metadata": {},
   "outputs": [
    {
     "name": "stdout",
     "output_type": "stream",
     "text": [
      "[[11 11 11 11 11 11 11 11 11]]\n"
     ]
    }
   ],
   "source": [
    "from ctypes import sizeof\n",
    "\n",
    "\n",
    "arr=np.array(range(9,18))\n",
    "arr1=np.array(range(20,29))\n",
    "\n",
    "d=np.diff((arr,arr1),axis=0)\n",
    "print(d)"
   ]
  },
  {
   "cell_type": "markdown",
   "metadata": {},
   "source": [
    "## cross "
   ]
  },
  {
   "cell_type": "code",
   "execution_count": 142,
   "metadata": {},
   "outputs": [
    {
     "name": "stdout",
     "output_type": "stream",
     "text": [
      "-3\n"
     ]
    }
   ],
   "source": [
    "arr=np.array([1,5])\n",
    "arr1=np.array([2,7])\n",
    "c=np.cross(arr,arr1)\n",
    "print(c)"
   ]
  },
  {
   "cell_type": "markdown",
   "metadata": {},
   "source": [
    "### sort\n"
   ]
  },
  {
   "cell_type": "code",
   "execution_count": 143,
   "metadata": {},
   "outputs": [
    {
     "name": "stdout",
     "output_type": "stream",
     "text": [
      "[[1 5 3 4]\n",
      " [2 7 6 6]]\n"
     ]
    }
   ],
   "source": [
    "arr=np.array([1,5,6,4])\n",
    "arr1=np.array([2,7,3,6])\n",
    "s=np.sort((arr,arr1),axis=0)\n",
    "print(s)\n",
    "\n",
    "# elements from both arrays compare and what is smaller comes \n",
    "# whether it is from 1st or 2nd arr "
   ]
  },
  {
   "cell_type": "code",
   "execution_count": 144,
   "metadata": {},
   "outputs": [
    {
     "name": "stdout",
     "output_type": "stream",
     "text": [
      "[[1 4 5 6]\n",
      " [2 3 6 7]]\n"
     ]
    }
   ],
   "source": [
    "arr=np.array([1,5,6,4])\n",
    "arr1=np.array([2,7,3,6])\n",
    "s=np.sort((arr,arr1),axis=1)\n",
    "print(s)\n",
    "\n",
    "# now elements are compare in same list and get sorted"
   ]
  },
  {
   "cell_type": "markdown",
   "metadata": {},
   "source": [
    "## flatten"
   ]
  },
  {
   "cell_type": "code",
   "execution_count": 149,
   "metadata": {},
   "outputs": [
    {
     "name": "stdout",
     "output_type": "stream",
     "text": [
      "[2 3 8 5 4 3 1 9]\n"
     ]
    }
   ],
   "source": [
    "n1=[2,3,8,5]\n",
    "n2=[4,3,1,9]\n",
    "\n",
    "n=np.array([n1,n2])\n",
    "print(n.flatten(\"C\"))"
   ]
  },
  {
   "cell_type": "code",
   "execution_count": 150,
   "metadata": {},
   "outputs": [
    {
     "name": "stdout",
     "output_type": "stream",
     "text": [
      "[ 6  6  9 14]\n"
     ]
    }
   ],
   "source": [
    "print(n.sum(axis=0))"
   ]
  },
  {
   "cell_type": "code",
   "execution_count": 147,
   "metadata": {},
   "outputs": [
    {
     "name": "stdout",
     "output_type": "stream",
     "text": [
      "[ 6.  7. nan  9.]\n"
     ]
    }
   ],
   "source": [
    "import numpy as np\n",
    "\n",
    "a = np.array([1.0, 2.0, np.nan, 4.0])\n",
    "\n",
    "# Performing operations with NaN\n",
    "b = a + 5\n",
    "\n",
    "print(b)\n"
   ]
  },
  {
   "cell_type": "code",
   "execution_count": 157,
   "metadata": {},
   "outputs": [
    {
     "name": "stdout",
     "output_type": "stream",
     "text": [
      "[[ 2  3  8  5]\n",
      " [ 6  6  9 14]]\n",
      "[    2     6    48   240   960  2880  2880 25920]\n",
      "[[ 2  3  8  5]\n",
      " [ 8  9  8 45]]\n"
     ]
    }
   ],
   "source": [
    "print(np.cumsum(n,axis=0))\n",
    "# now cumprod\n",
    "print(np.cumprod(n))\n",
    "# if a axis is default then it will flatten \n",
    "# the array multiply each element by its previous\n",
    "\n",
    "\n",
    "# now using the axis\n",
    "print(np.cumprod(n,axis=0))"
   ]
  },
  {
   "cell_type": "markdown",
   "metadata": {},
   "source": [
    "## ietration in np \n"
   ]
  },
  {
   "cell_type": "code",
   "execution_count": 158,
   "metadata": {},
   "outputs": [
    {
     "name": "stdout",
     "output_type": "stream",
     "text": [
      "1\n",
      "2\n",
      "3\n",
      "4\n",
      "6\n",
      "7\n",
      "9\n"
     ]
    }
   ],
   "source": [
    "arr=np.array([1,2,3,4,6,7,9])\n",
    "\n",
    "for i in arr:\n",
    "    print(i)"
   ]
  },
  {
   "cell_type": "code",
   "execution_count": 160,
   "metadata": {},
   "outputs": [
    {
     "name": "stdout",
     "output_type": "stream",
     "text": [
      "1\n",
      "2\n",
      "3\n",
      "4\n",
      "6\n",
      "7\n",
      "9\n",
      "5\n",
      "1\n",
      "3\n",
      "6\n",
      "9\n",
      "7\n",
      "3\n"
     ]
    }
   ],
   "source": [
    "arr=np.array([[1,2,3,4,6,7,9],[5,1,3,6,9,7,3]])\n",
    "\n",
    "for i in arr:\n",
    "    for j in i:\n",
    "\n",
    "        print(j)"
   ]
  },
  {
   "cell_type": "code",
   "execution_count": 164,
   "metadata": {},
   "outputs": [
    {
     "name": "stdout",
     "output_type": "stream",
     "text": [
      "1\n",
      "2\n",
      "3\n",
      "8\n",
      "5\n",
      "1\n",
      "8\n",
      "12\n"
     ]
    }
   ],
   "source": [
    "# 3d array \n",
    "\n",
    "arr3=np.array([[[1,2],[3,8]],[[5,1],[8,12]]])\n",
    "# for i in arr3:\n",
    "#     for j in i:\n",
    "#         for k in j:\n",
    "#             print(k)\n",
    "\n",
    "# this is not optimal\n",
    "\n",
    "for i in np.nditer(arr3):\n",
    "    print(i)\n"
   ]
  },
  {
   "cell_type": "code",
   "execution_count": 165,
   "metadata": {},
   "outputs": [
    {
     "name": "stdout",
     "output_type": "stream",
     "text": [
      "(0, 0, 0) 1\n",
      "(0, 0, 1) 2\n",
      "(0, 1, 0) 3\n",
      "(0, 1, 1) 8\n",
      "(1, 0, 0) 5\n",
      "(1, 0, 1) 1\n",
      "(1, 1, 0) 8\n",
      "(1, 1, 1) 12\n"
     ]
    }
   ],
   "source": [
    "# np also has enumerate \n",
    "\n",
    "# 3d array \n",
    "\n",
    "arr3=np.array([[[1,2],[3,8]],[[5,1],[8,12]]])\n",
    "\n",
    "\n",
    "for ind,ele in np.ndenumerate(arr3):\n",
    "    print(ind,ele)\n"
   ]
  },
  {
   "cell_type": "markdown",
   "metadata": {},
   "source": [
    "## copy vs view function"
   ]
  },
  {
   "cell_type": "code",
   "execution_count": 167,
   "metadata": {},
   "outputs": [
    {
     "name": "stdout",
     "output_type": "stream",
     "text": [
      "original : [1 2 7 4 6 7 9]\n",
      "copy : [1 2 3 4 6 7 9]\n"
     ]
    }
   ],
   "source": [
    "arr=np.array([1,2,3,4,6,7,9])\n",
    "c=np.copy(arr)\n",
    "arr[2]=7\n",
    "print('original :',arr)\n",
    "print('copy :',c)\n"
   ]
  },
  {
   "cell_type": "code",
   "execution_count": 169,
   "metadata": {},
   "outputs": [
    {
     "name": "stdout",
     "output_type": "stream",
     "text": [
      "original : [1 2 3 7 6 7 9]\n",
      "view copy : [1 2 3 7 6 7 9]\n"
     ]
    }
   ],
   "source": [
    "# view \n",
    "arr=np.array([1,2,3,4,6,7,9])\n",
    "v=arr.view()\n",
    "arr[3]=7\n",
    "print('original :',arr)\n",
    "print('view copy :',v)"
   ]
  },
  {
   "cell_type": "code",
   "execution_count": 172,
   "metadata": {},
   "outputs": [
    {
     "name": "stdout",
     "output_type": "stream",
     "text": [
      "[1. 2. 3. 4.]\n"
     ]
    }
   ],
   "source": [
    "a=np.array([1,2])\n",
    "# a=np.append(a,3)\n",
    "a=np.append(a,[3,4.0])\n",
    "print(a)\n",
    "# all converts to float"
   ]
  },
  {
   "cell_type": "markdown",
   "metadata": {},
   "source": [
    "## insertion in np"
   ]
  },
  {
   "cell_type": "code",
   "execution_count": 176,
   "metadata": {},
   "outputs": [
    {
     "data": {
      "text/plain": [
       "array([1. , 3.5, 2. , 3. ])"
      ]
     },
     "execution_count": 176,
     "metadata": {},
     "output_type": "execute_result"
    }
   ],
   "source": [
    "a = np.array([1.0, 2.0, 3.0])\n",
    "a=np.insert(a,1,values=3.5)\n",
    "a"
   ]
  },
  {
   "cell_type": "code",
   "execution_count": 177,
   "metadata": {},
   "outputs": [
    {
     "data": {
      "text/plain": [
       "array([  1. ,   3.5, 100. , 200. ,   2. ,   3. ])"
      ]
     },
     "execution_count": 177,
     "metadata": {},
     "output_type": "execute_result"
    }
   ],
   "source": [
    "a = np.insert(a, 2, values=[100, 200])\n",
    "a"
   ]
  },
  {
   "cell_type": "code",
   "execution_count": 180,
   "metadata": {},
   "outputs": [
    {
     "data": {
      "text/plain": [
       "array([  1. ,   3.5, 100. ,   4.2,   4.5,   4.5,   5.2, 200. ,   5.5,\n",
       "         2. ,   5.5,   3. ])"
      ]
     },
     "execution_count": 180,
     "metadata": {},
     "output_type": "execute_result"
    }
   ],
   "source": [
    "# Insert multiple elements at multiple positions\n",
    "a = np.insert(a, [3, 5], values=[4.2, 5.2])\n",
    "a\n"
   ]
  },
  {
   "cell_type": "markdown",
   "metadata": {},
   "source": [
    "## deleting a element"
   ]
  },
  {
   "cell_type": "code",
   "execution_count": 185,
   "metadata": {},
   "outputs": [
    {
     "name": "stdout",
     "output_type": "stream",
     "text": [
      "[1. 2. 3. 4.]\n"
     ]
    }
   ],
   "source": [
    "a = np.array([1.0, 2.0, 3.0, 4.0, 5.0])\n",
    "a = np.delete(a, -1)\n",
    "print(a)"
   ]
  },
  {
   "cell_type": "code",
   "execution_count": 186,
   "metadata": {},
   "outputs": [
    {
     "data": {
      "text/plain": [
       "array([3., 4.])"
      ]
     },
     "execution_count": 186,
     "metadata": {},
     "output_type": "execute_result"
    }
   ],
   "source": [
    "a = np.delete(a, [0, 1])\n",
    "a\n",
    "# a is now [3., 4.]"
   ]
  },
  {
   "cell_type": "code",
   "execution_count": 188,
   "metadata": {},
   "outputs": [
    {
     "data": {
      "text/plain": [
       "array([1., 2., 3., 4., 5.])"
      ]
     },
     "execution_count": 188,
     "metadata": {},
     "output_type": "execute_result"
    }
   ],
   "source": [
    "a = np.array([1.0, 3.0, 2.0, 4.0, 5.0])\n",
    "b = np.sort(a)\n",
    "b\n",
    "# b is now [1., 2., 3., 4., 5.]"
   ]
  },
  {
   "cell_type": "code",
   "execution_count": 190,
   "metadata": {},
   "outputs": [
    {
     "name": "stdout",
     "output_type": "stream",
     "text": [
      "[3. 4. 5. 6.]\n",
      "[3. 4. 5. 6.]\n",
      "[-1.  0.  1.  2.]\n",
      "[-1.  0.  1.  2.]\n"
     ]
    }
   ],
   "source": [
    "a = np.array([1.0, 2.0, 3.0, 4.0])\n",
    "b = np.array([2.0, 2.0, 2.0, 2.0])\n",
    "print(a + b)\n",
    "\n",
    "print(a + 2)\n",
    "\n",
    "print(a - b)\n",
    "\n",
    "print(a - 2)\n",
    "\n"
   ]
  },
  {
   "cell_type": "code",
   "execution_count": 191,
   "metadata": {},
   "outputs": [
    {
     "name": "stdout",
     "output_type": "stream",
     "text": [
      "[2. 4. 6. 8.]\n",
      "[2. 4. 6. 8.]\n",
      "[0.5 1.  1.5 2. ]\n",
      "[0.5 1.  1.5 2. ]\n"
     ]
    }
   ],
   "source": [
    "a = np.array([1.0, 2.0, 3.0, 4.0])\n",
    "b = np.array([2.0, 2.0, 2.0, 2.0])\n",
    "print(a * b)\n",
    "\n",
    "print(a * 2)\n",
    "\n",
    "print(a / b)\n",
    "\n",
    "print(a / 2)\n"
   ]
  },
  {
   "cell_type": "code",
   "execution_count": 13,
   "metadata": {},
   "outputs": [
    {
     "name": "stdout",
     "output_type": "stream",
     "text": [
      "this is a original array\n",
      " [[[1 2 3]\n",
      "  [3 2 1]\n",
      "  [4 5 6]]]\n",
      "this is a reverse array\n",
      "[[[1 2 3]\n",
      "  [3 2 1]\n",
      "  [4 5 6]]]\n"
     ]
    }
   ],
   "source": [
    "\n",
    "arr=np.array([[[1,2,3],[3,2,1],[4,5,6]]])\n",
    "print('this is a original array\\n',arr)\n",
    "print('this is a reverse array')\n",
    "print(arr[::-1])"
   ]
  },
  {
   "cell_type": "code",
   "execution_count": 16,
   "metadata": {},
   "outputs": [
    {
     "name": "stdout",
     "output_type": "stream",
     "text": [
      "Original 2D Array:\n",
      "[[1 2 3]\n",
      " [4 5 6]\n",
      " [7 8 9]]\n",
      "\n",
      "Reversed 2D Array:\n",
      "[[3 2 1]\n",
      " [6 5 4]\n",
      " [9 8 7]]\n"
     ]
    }
   ],
   "source": [
    "import numpy as np\n",
    "\n",
    "# Create a sample 2D array\n",
    "original_array_2d = np.array([[1, 2, 3],\n",
    "                               [4, 5, 6],\n",
    "                               [7, 8, 9]])\n",
    "\n",
    "# Reverse the 2D array along both rows and columns\n",
    "reversed_array_2d = original_array_2d[:,::-1]\n",
    "\n",
    "# Print the original and reversed 2D arrays\n",
    "print(\"Original 2D Array:\")\n",
    "print(original_array_2d)\n",
    "\n",
    "print(\"\\nReversed 2D Array:\")\n",
    "print(reversed_array_2d)\n"
   ]
  },
  {
   "cell_type": "code",
   "execution_count": 17,
   "metadata": {},
   "outputs": [
    {
     "name": "stdout",
     "output_type": "stream",
     "text": [
      "Original 3D Array:\n",
      "[[[ 1  2  3]\n",
      "  [ 4  5  6]\n",
      "  [ 7  8  9]]\n",
      "\n",
      " [[10 11 12]\n",
      "  [13 14 15]\n",
      "  [16 17 18]]\n",
      "\n",
      " [[19 20 21]\n",
      "  [22 23 24]\n",
      "  [25 26 27]]]\n",
      "\n",
      "Reversed 3D Array (Along Third Dimension):\n",
      "[[[ 3  2  1]\n",
      "  [ 6  5  4]\n",
      "  [ 9  8  7]]\n",
      "\n",
      " [[12 11 10]\n",
      "  [15 14 13]\n",
      "  [18 17 16]]\n",
      "\n",
      " [[21 20 19]\n",
      "  [24 23 22]\n",
      "  [27 26 25]]]\n"
     ]
    }
   ],
   "source": [
    "import numpy as np\n",
    "\n",
    "# Create a sample 3D array\n",
    "original_array_3d = np.array([[[1, 2, 3],\n",
    "                                [4, 5, 6],\n",
    "                                [7, 8, 9]],\n",
    "                               [[10, 11, 12],\n",
    "                                [13, 14, 15],\n",
    "                                [16, 17, 18]],\n",
    "                               [[19, 20, 21],\n",
    "                                [22, 23, 24],\n",
    "                                [25, 26, 27]]])\n",
    "\n",
    "# Reverse the 3D array along the third dimension (axis=2)\n",
    "reversed_array_3d = original_array_3d[:, :, ::-1]\n",
    "\n",
    "# Print the original and reversed 3D arrays\n",
    "print(\"Original 3D Array:\")\n",
    "print(original_array_3d)\n",
    "\n",
    "print(\"\\nReversed 3D Array (Along Third Dimension):\")\n",
    "print(reversed_array_3d)\n"
   ]
  },
  {
   "cell_type": "code",
   "execution_count": 21,
   "metadata": {},
   "outputs": [
    {
     "name": "stdout",
     "output_type": "stream",
     "text": [
      "Original 4D Array:\n",
      "[[[[ 7  9  7  8  2]\n",
      "   [10 16  2  8  2]\n",
      "   [ 8 18 18  9 16]\n",
      "   [13  3 12 12 15]]\n",
      "\n",
      "  [[ 5  3  2  5  1]\n",
      "   [ 2  1  6 10  7]\n",
      "   [16  6  2 17 12]\n",
      "   [13  3 12  9 17]]\n",
      "\n",
      "  [[11  0  1 11 19]\n",
      "   [17 12 13 10 11]\n",
      "   [15 14  3  4 18]\n",
      "   [ 6  1  2  5  3]]]\n",
      "\n",
      "\n",
      " [[[19 15  9  0  5]\n",
      "   [ 5  8  7 18  4]\n",
      "   [ 1 10  9 18  6]\n",
      "   [11  5  3 11  5]]\n",
      "\n",
      "  [[17  8  6  8 11]\n",
      "   [19 17  2  3  9]\n",
      "   [19  4 15  5  9]\n",
      "   [12 18  7  9 19]]\n",
      "\n",
      "  [[16 16 18  2 12]\n",
      "   [ 9  7 13 14  6]\n",
      "   [ 0 11 16 16 14]\n",
      "   [19 16  4  3  6]]]]\n",
      "\n",
      "Reversed 4D Array (Along Fourth Dimension):\n",
      "[[[[ 2  8  7  9  7]\n",
      "   [ 2  8  2 16 10]\n",
      "   [16  9 18 18  8]\n",
      "   [15 12 12  3 13]]\n",
      "\n",
      "  [[ 1  5  2  3  5]\n",
      "   [ 7 10  6  1  2]\n",
      "   [12 17  2  6 16]\n",
      "   [17  9 12  3 13]]\n",
      "\n",
      "  [[19 11  1  0 11]\n",
      "   [11 10 13 12 17]\n",
      "   [18  4  3 14 15]\n",
      "   [ 3  5  2  1  6]]]\n",
      "\n",
      "\n",
      " [[[ 5  0  9 15 19]\n",
      "   [ 4 18  7  8  5]\n",
      "   [ 6 18  9 10  1]\n",
      "   [ 5 11  3  5 11]]\n",
      "\n",
      "  [[11  8  6  8 17]\n",
      "   [ 9  3  2 17 19]\n",
      "   [ 9  5 15  4 19]\n",
      "   [19  9  7 18 12]]\n",
      "\n",
      "  [[12  2 18 16 16]\n",
      "   [ 6 14 13  7  9]\n",
      "   [14 16 16 11  0]\n",
      "   [ 6  3  4 16 19]]]]\n"
     ]
    }
   ],
   "source": [
    "import numpy as np\n",
    "\n",
    "# Create a sample 4D array\n",
    "original_array_4d = np.random.randint(20,size=(2, 3, 4, 5))\n",
    "\n",
    "# Reverse the 4D array along the fourth dimension (axis=3)\n",
    "reversed_array_4d = original_array_4d[:, :, :, ::-1]\n",
    "\n",
    "# Print the original and reversed 4D arrays\n",
    "print(\"Original 4D Array:\")\n",
    "print(original_array_4d)\n",
    "\n",
    "print(\"\\nReversed 4D Array (Along Fourth Dimension):\")\n",
    "print(reversed_array_4d)\n"
   ]
  },
  {
   "cell_type": "code",
   "execution_count": null,
   "metadata": {},
   "outputs": [],
   "source": []
  }
 ],
 "metadata": {
  "kernelspec": {
   "display_name": "Python 3",
   "language": "python",
   "name": "python3"
  },
  "language_info": {
   "codemirror_mode": {
    "name": "ipython",
    "version": 3
   },
   "file_extension": ".py",
   "mimetype": "text/x-python",
   "name": "python",
   "nbconvert_exporter": "python",
   "pygments_lexer": "ipython3",
   "version": "3.12.0"
  }
 },
 "nbformat": 4,
 "nbformat_minor": 2
}
