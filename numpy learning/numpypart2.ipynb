{
 "cells": [
  {
   "cell_type": "code",
   "execution_count": 1,
   "metadata": {},
   "outputs": [],
   "source": [
    "import numpy as np"
   ]
  },
  {
   "cell_type": "code",
   "execution_count": 14,
   "metadata": {},
   "outputs": [
    {
     "name": "stdout",
     "output_type": "stream",
     "text": [
      "2\n",
      "3\n",
      "4\n"
     ]
    },
    {
     "data": {
      "text/plain": [
       "array([1, 2, 3])"
      ]
     },
     "execution_count": 14,
     "metadata": {},
     "output_type": "execute_result"
    }
   ],
   "source": [
    "arr=np.array([1,2,3,4,5,6,7,8,9])\n",
    "s=np.array_split(arr,3)\n",
    "for i in s[0]:\n",
    "    i+=1\n",
    "    print(i)\n",
    "    \n",
    "\n"
   ]
  },
  {
   "cell_type": "code",
   "execution_count": 25,
   "metadata": {},
   "outputs": [
    {
     "data": {
      "text/plain": [
       "[array([[1],\n",
       "        [3]]),\n",
       " array([[2],\n",
       "        [4]]),\n",
       " array([[3],\n",
       "        [6]])]"
      ]
     },
     "execution_count": 25,
     "metadata": {},
     "output_type": "execute_result"
    }
   ],
   "source": [
    "arr=np.array([[1,2,3],[3,4,6]])\n",
    "s=np.array_split(arr,3,axis=1)\n",
    "s"
   ]
  },
  {
   "cell_type": "markdown",
   "metadata": {},
   "source": [
    "## searching in np\n"
   ]
  },
  {
   "cell_type": "code",
   "execution_count": 35,
   "metadata": {},
   "outputs": [
    {
     "name": "stdout",
     "output_type": "stream",
     "text": [
      "(array([0, 1, 2], dtype=int64),)\n",
      "(array([3], dtype=int64),)\n",
      "(array([0, 4], dtype=int64),)\n"
     ]
    }
   ],
   "source": [
    "arr=np.array([8,9,5,3,2,1])\n",
    "s=np.where(arr>3)\n",
    "a=np.where(arr==3)\n",
    "print(s)\n",
    "print(a)\n",
    "\n",
    "# for checking which element is divisible by 2 , gives the remainder 0\n",
    "sr=np.where(arr%2==0)\n",
    "print(sr)\n",
    "\n"
   ]
  },
  {
   "cell_type": "code",
   "execution_count": 36,
   "metadata": {},
   "outputs": [
    {
     "name": "stdout",
     "output_type": "stream",
     "text": [
      "3\n"
     ]
    }
   ],
   "source": [
    "# if you have  a sorted aray and you want to check the element index\n",
    "arr=np.array([3,4,5,7,8,9,11])\n",
    "search_sorted=np.searchsorted(arr,7)\n",
    "print(search_sorted)"
   ]
  },
  {
   "cell_type": "markdown",
   "metadata": {},
   "source": [
    "## filter"
   ]
  },
  {
   "cell_type": "code",
   "execution_count": 38,
   "metadata": {},
   "outputs": [
    {
     "name": "stdout",
     "output_type": "stream",
     "text": [
      "[3 5]\n"
     ]
    }
   ],
   "source": [
    "arr=np.array([3,4,5,7,8])\n",
    "fa=[True,False,True,False,False]\n",
    "new=arr[fa]\n",
    "# now the new list is containing only the true elements (matching )\n",
    "\n",
    "print(new)"
   ]
  },
  {
   "cell_type": "code",
   "execution_count": 42,
   "metadata": {},
   "outputs": [
    {
     "name": "stdout",
     "output_type": "stream",
     "text": [
      "[ 4  8 66 12 28 44 66]\n",
      "this is a sorted : [ 4  8 12 28 44 66 66]\n"
     ]
    }
   ],
   "source": [
    "arr=np.array([3,4,5,7,8,9,13,45,66,12,21,28,33,44,55,66,11])\n",
    "fa=arr%2==0\n",
    "new=arr[fa]\n",
    "print(new)\n",
    "new=np.sort(new)\n",
    "print('this is a sorted :',new)\n",
    "\n",
    "# contains only even nubers "
   ]
  },
  {
   "cell_type": "code",
   "execution_count": 43,
   "metadata": {},
   "outputs": [
    {
     "name": "stdout",
     "output_type": "stream",
     "text": [
      "[45 66 21 28 33 44 55 66]\n"
     ]
    }
   ],
   "source": [
    "arr=np.array([3,4,5,7,8,9,13,45,66,12,21,28,33,44,55,66,11])\n",
    "fa=arr>13\n",
    "new=arr[fa]\n",
    "print(new)\n"
   ]
  },
  {
   "cell_type": "markdown",
   "metadata": {},
   "source": [
    "## random shuffle unique resize and ravel"
   ]
  },
  {
   "cell_type": "code",
   "execution_count": 46,
   "metadata": {},
   "outputs": [
    {
     "name": "stdout",
     "output_type": "stream",
     "text": [
      "[ 3  4  5  7  8  9 13 45 66 12 21 28 33 44 55 66 11]\n",
      "[44 11  3 33 13  8  5 45  4 28 12  7 66 55 21  9 66]\n"
     ]
    }
   ],
   "source": [
    "arr=np.array([3,4,5,7,8,9,13,45,66,12,21,28,33,44,55,66,11])\n",
    "print(arr)\n",
    "np.random.shuffle(arr)\n",
    "print(arr)"
   ]
  },
  {
   "cell_type": "code",
   "execution_count": 47,
   "metadata": {},
   "outputs": [
    {
     "name": "stdout",
     "output_type": "stream",
     "text": [
      "[ 3  4  5  7  8  9 11 12 13 21 28 33 44 45 55 66]\n"
     ]
    }
   ],
   "source": [
    "arr=np.array([3,4,5,7,8,9,13,45,66,12,21,28,33,44,55,66,11])\n",
    "#  i want only unique elements \n",
    "\n",
    "new=np.unique(arr)\n",
    "print(new)"
   ]
  },
  {
   "cell_type": "code",
   "execution_count": 50,
   "metadata": {},
   "outputs": [
    {
     "name": "stdout",
     "output_type": "stream",
     "text": [
      "[[ 3  4  5  7]\n",
      " [ 8  9 13 45]\n",
      " [66 12 21 28]\n",
      " [33 44 55 66]\n",
      " [11  3  4  5]]\n"
     ]
    }
   ],
   "source": [
    "arr=np.array([3,4,5,7,8,9,13,45,66,12,21,28,33,44,55,66,11])\n",
    "\n",
    "print(np.resize(arr,(5,4)))"
   ]
  },
  {
   "cell_type": "code",
   "execution_count": 51,
   "metadata": {},
   "outputs": [
    {
     "name": "stdout",
     "output_type": "stream",
     "text": [
      "[ 3  4  5  7  8  9 13 45 66]\n"
     ]
    }
   ],
   "source": [
    "# ravel function flatten our arrays irrespective of its dimensions\n",
    "arr=np.array([[[3,4,5],[7,8,9],[13,45,66]]])\n",
    "\n",
    "print(np.ravel(arr))\n",
    "\n"
   ]
  },
  {
   "cell_type": "code",
   "execution_count": 52,
   "metadata": {},
   "outputs": [
    {
     "name": "stdout",
     "output_type": "stream",
     "text": [
      "[3 4 5 6]\n",
      "[ 3 50  4 50  5  6 50]\n"
     ]
    }
   ],
   "source": [
    "arr=np.array([3,4,5,6])\n",
    "print(arr)\n",
    "\n",
    "print(np.insert(arr,(1,2,4),50))\n"
   ]
  },
  {
   "cell_type": "code",
   "execution_count": 57,
   "metadata": {},
   "outputs": [
    {
     "name": "stdout",
     "output_type": "stream",
     "text": [
      "[[20 40]\n",
      " [60 80]]\n",
      "[[20 40]\n",
      " [50 50]\n",
      " [60 80]]\n",
      "[[20 50 40]\n",
      " [60 50 80]]\n"
     ]
    }
   ],
   "source": [
    "arr=np.array([[20,40],[60,80]])\n",
    "print(arr)\n",
    "\n",
    "print(np.insert(arr,1,50,axis=0))\n",
    "print(np.insert(arr,1,50,axis=1))"
   ]
  },
  {
   "cell_type": "code",
   "execution_count": 58,
   "metadata": {},
   "outputs": [
    {
     "name": "stdout",
     "output_type": "stream",
     "text": [
      "[[20 40]\n",
      " [60 80]]\n",
      "[[20 40]\n",
      " [50 40]\n",
      " [60 80]]\n"
     ]
    }
   ],
   "source": [
    "arr=np.array([[20,40],[60,80]])\n",
    "print(arr)\n",
    "\n",
    "print(np.insert(arr,1,[50,40],axis=0))"
   ]
  },
  {
   "cell_type": "code",
   "execution_count": 59,
   "metadata": {},
   "outputs": [
    {
     "name": "stdout",
     "output_type": "stream",
     "text": [
      "[ 3  4  5  6 11 34 23]\n",
      "[ 3  4  5  6 34 23]\n"
     ]
    }
   ],
   "source": [
    "# deletion\n",
    "\n",
    "arr=np.array([3,4,5,6,11,34,23])\n",
    "print(arr)\n",
    "print(np.delete(arr,4))"
   ]
  },
  {
   "cell_type": "code",
   "execution_count": 65,
   "metadata": {},
   "outputs": [
    {
     "name": "stdout",
     "output_type": "stream",
     "text": [
      "[[20]\n",
      " [60]]\n"
     ]
    }
   ],
   "source": [
    "arr=np.array([[20,40],[60,80]])\n",
    "print(np.delete(arr,1,axis=1))"
   ]
  },
  {
   "cell_type": "markdown",
   "metadata": {},
   "source": [
    "## Arthematic operations"
   ]
  },
  {
   "cell_type": "code",
   "execution_count": 87,
   "metadata": {},
   "outputs": [
    {
     "name": "stdout",
     "output_type": "stream",
     "text": [
      "[14 16 18 20 26 50 40]\n",
      "[  8   8   8   8   4 -18  -6]\n",
      "[ 33  48  65  84 165 544 391]\n",
      "[3.67 3.   2.6  2.33 1.36 0.47 0.74]\n",
      "[ 2  0  3  2  4 16 17]\n",
      "[    177147   16777216 1220703125 1054752768 1632031715 2030108672\n",
      " -285245545]\n"
     ]
    }
   ],
   "source": [
    "arr1=np.array([3,4,5,6,11,34,23])\n",
    "arr2=np.arange(11,18,1)\n",
    "print(arr1+arr2)\n",
    "print(arr2-arr1)\n",
    "print(arr2*arr1)\n",
    "print(np.round((arr2/arr1),2))\n",
    "\n",
    "print(arr2%arr1)\n",
    "print(arr1**arr2)"
   ]
  },
  {
   "cell_type": "code",
   "execution_count": 98,
   "metadata": {},
   "outputs": [
    {
     "name": "stdout",
     "output_type": "stream",
     "text": [
      "[[-2 -6]\n",
      " [12 10]]\n"
     ]
    }
   ],
   "source": [
    "arr1=np.array([[-2,3],[4,5]])\n",
    "arr2=np.array([[1,-2],[3,2]])\n",
    "\n",
    "print(arr1*arr2)"
   ]
  },
  {
   "cell_type": "code",
   "execution_count": 102,
   "metadata": {},
   "outputs": [
    {
     "name": "stdout",
     "output_type": "stream",
     "text": [
      "[[ 0  6]\n",
      " [ 8 10]]\n",
      "[[-4  0]\n",
      " [ 0  0]]\n",
      "[[-4  9]\n",
      " [16 25]]\n",
      "[[-1.  1.]\n",
      " [ 1.  1.]]\n",
      "[[0 0]\n",
      " [0 0]]\n",
      "(array([[-1,  1],\n",
      "       [ 1,  1]]), array([[0, 0],\n",
      "       [0, 0]]))\n",
      "this is a absolute\n",
      "[[2 3]\n",
      " [4 5]]\n",
      "[[-1  1]\n",
      " [ 1  1]]\n"
     ]
    }
   ],
   "source": [
    "# built in arthematic functions\n",
    "\n",
    "print(np.add(arr1,arr2))\n",
    "print(np.subtract(arr1,arr2))\n",
    "print(np.multiply(arr1,arr2))\n",
    "print(np.divide(arr1,arr2))\n",
    "print(np.mod(arr1,arr2))\n",
    "\n",
    "\n",
    "\n",
    "print(np.divmod(arr1,arr2))\n",
    "\n",
    "print(f'this is a absolute')\n",
    "print(np.absolute(arr2))\n",
    "\n",
    "# floor_divide gives the queotent\n",
    "\n",
    "\n",
    "print(np.floor_divide(arr1,arr2))\n",
    "\n"
   ]
  },
  {
   "cell_type": "markdown",
   "metadata": {},
   "source": [
    "## matrix in np"
   ]
  },
  {
   "cell_type": "code",
   "execution_count": 104,
   "metadata": {},
   "outputs": [
    {
     "name": "stdout",
     "output_type": "stream",
     "text": [
      "[[ 7 10]\n",
      " [19  2]]\n",
      "[ 1 -7]\n"
     ]
    }
   ],
   "source": [
    "mat1=np.matrix([[-2,3],[4,5]])\n",
    "mat2=np.matrix([[1,-2],[3,2]])\n",
    "\n",
    "print(np.dot(mat1,mat2))\n",
    "print(np.cross(mat1,mat2))"
   ]
  },
  {
   "cell_type": "code",
   "execution_count": 107,
   "metadata": {},
   "outputs": [
    {
     "name": "stdout",
     "output_type": "stream",
     "text": [
      "[[ 1  3]\n",
      " [-2  2]]\n",
      "[[ 1  3]\n",
      " [-2  2]]\n"
     ]
    }
   ],
   "source": [
    "# transpose\n",
    "mat2=np.matrix([[1,-2],[3,2]])\n",
    "print(mat2.transpose())\n",
    "print(mat2.T)"
   ]
  },
  {
   "cell_type": "code",
   "execution_count": 109,
   "metadata": {},
   "outputs": [],
   "source": [
    "a,b,c=10,20,30"
   ]
  },
  {
   "cell_type": "code",
   "execution_count": 113,
   "metadata": {},
   "outputs": [
    {
     "name": "stdout",
     "output_type": "stream",
     "text": [
      "<class 'int'>\n",
      "140729535023832\n",
      "140729535023832\n",
      "140729535023864\n"
     ]
    }
   ],
   "source": [
    "a=10\n",
    "b=10\n",
    "c=11\n",
    "print(type(a))\n",
    "print(id(a))\n",
    "print(id(b))\n",
    "print(id(c))"
   ]
  },
  {
   "cell_type": "code",
   "execution_count": null,
   "metadata": {},
   "outputs": [],
   "source": []
  }
 ],
 "metadata": {
  "kernelspec": {
   "display_name": "Python 3",
   "language": "python",
   "name": "python3"
  },
  "language_info": {
   "codemirror_mode": {
    "name": "ipython",
    "version": 3
   },
   "file_extension": ".py",
   "mimetype": "text/x-python",
   "name": "python",
   "nbconvert_exporter": "python",
   "pygments_lexer": "ipython3",
   "version": "3.12.0"
  }
 },
 "nbformat": 4,
 "nbformat_minor": 2
}
